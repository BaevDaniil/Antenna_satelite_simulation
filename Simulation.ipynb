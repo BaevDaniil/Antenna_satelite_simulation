{
 "cells": [
  {
   "cell_type": "code",
   "execution_count": 4,
   "metadata": {
    "collapsed": false,
    "pycharm": {
     "name": "#%%\n"
    }
   },
   "outputs": [
    {
     "name": "stdout",
     "output_type": "stream",
     "text": [
      "Requirement already satisfied: itur in c:\\users\\daniil\\appdata\\local\\programs\\python\\python310\\lib\\site-packages (0.3.4)\n",
      "Requirement already satisfied: astropy in c:\\users\\daniil\\appdata\\local\\programs\\python\\python310\\lib\\site-packages (from itur) (5.1.1)\n",
      "Requirement already satisfied: scipy in c:\\users\\daniil\\appdata\\local\\programs\\python\\python310\\lib\\site-packages (from itur) (1.8.0)\n",
      "Requirement already satisfied: numpy in c:\\users\\daniil\\appdata\\local\\programs\\python\\python310\\lib\\site-packages (from itur) (1.22.3)\n",
      "Requirement already satisfied: pyproj in c:\\users\\daniil\\appdata\\local\\programs\\python\\python310\\lib\\site-packages (from itur) (3.4.0)\n",
      "Requirement already satisfied: PyYAML>=3.13 in c:\\users\\daniil\\appdata\\local\\programs\\python\\python310\\lib\\site-packages (from astropy->itur) (6.0)\n",
      "Requirement already satisfied: packaging>=19.0 in c:\\users\\daniil\\appdata\\local\\programs\\python\\python310\\lib\\site-packages (from astropy->itur) (21.3)\n",
      "Requirement already satisfied: pyerfa>=2.0 in c:\\users\\daniil\\appdata\\local\\programs\\python\\python310\\lib\\site-packages (from astropy->itur) (2.0.0.1)\n",
      "Requirement already satisfied: certifi in c:\\users\\daniil\\appdata\\local\\programs\\python\\python310\\lib\\site-packages (from pyproj->itur) (2022.6.15)\n",
      "Requirement already satisfied: pyparsing!=3.0.5,>=2.0.2 in c:\\users\\daniil\\appdata\\local\\programs\\python\\python310\\lib\\site-packages (from packaging>=19.0->astropy->itur) (3.0.7)\n",
      "\n",
      "[notice] A new release of pip available: 22.1.2 -> 22.3\n",
      "[notice] To update, run: python.exe -m pip install --upgrade pip\n",
      "Requirement already satisfied: skyfield in c:\\users\\daniil\\appdata\\local\\programs\\python\\python310\\lib\\site-packages (1.45)\n",
      "Requirement already satisfied: certifi>=2017.4.17 in c:\\users\\daniil\\appdata\\local\\programs\\python\\python310\\lib\\site-packages (from skyfield) (2022.6.15)\n",
      "Requirement already satisfied: jplephem>=2.13 in c:\\users\\daniil\\appdata\\local\\programs\\python\\python310\\lib\\site-packages (from skyfield) (2.18)\n",
      "Requirement already satisfied: sgp4>=2.2 in c:\\users\\daniil\\appdata\\local\\programs\\python\\python310\\lib\\site-packages (from skyfield) (2.21)\n",
      "Requirement already satisfied: numpy in c:\\users\\daniil\\appdata\\local\\programs\\python\\python310\\lib\\site-packages (from skyfield) (1.22.3)\n",
      "\n",
      "[notice] A new release of pip available: 22.1.2 -> 22.3\n",
      "[notice] To update, run: python.exe -m pip install --upgrade pip\n",
      "Requirement already satisfied: itur in c:\\users\\daniil\\appdata\\local\\programs\\python\\python310\\lib\\site-packages (0.3.4)\n",
      "Requirement already satisfied: pyproj in c:\\users\\daniil\\appdata\\local\\programs\\python\\python310\\lib\\site-packages (from itur) (3.4.0)\n",
      "Requirement already satisfied: scipy in c:\\users\\daniil\\appdata\\local\\programs\\python\\python310\\lib\\site-packages (from itur) (1.8.0)\n",
      "Requirement already satisfied: numpy in c:\\users\\daniil\\appdata\\local\\programs\\python\\python310\\lib\\site-packages (from itur) (1.22.3)\n",
      "Requirement already satisfied: astropy in c:\\users\\daniil\\appdata\\local\\programs\\python\\python310\\lib\\site-packages (from itur) (5.1.1)\n",
      "Requirement already satisfied: pyerfa>=2.0 in c:\\users\\daniil\\appdata\\local\\programs\\python\\python310\\lib\\site-packages (from astropy->itur) (2.0.0.1)\n",
      "Requirement already satisfied: PyYAML>=3.13 in c:\\users\\daniil\\appdata\\local\\programs\\python\\python310\\lib\\site-packages (from astropy->itur) (6.0)\n",
      "Requirement already satisfied: packaging>=19.0 in c:\\users\\daniil\\appdata\\local\\programs\\python\\python310\\lib\\site-packages (from astropy->itur) (21.3)\n",
      "Requirement already satisfied: certifi in c:\\users\\daniil\\appdata\\local\\programs\\python\\python310\\lib\\site-packages (from pyproj->itur) (2022.6.15)\n",
      "Requirement already satisfied: pyparsing!=3.0.5,>=2.0.2 in c:\\users\\daniil\\appdata\\local\\programs\\python\\python310\\lib\\site-packages (from packaging>=19.0->astropy->itur) (3.0.7)\n",
      "\n",
      "[notice] A new release of pip available: 22.1.2 -> 22.3\n",
      "[notice] To update, run: python.exe -m pip install --upgrade pip\n"
     ]
    }
   ],
   "source": [
    "%pip install skyfield\n",
    "%pip install itur"
   ]
  },
  {
   "cell_type": "code",
   "execution_count": 5,
   "metadata": {
    "collapsed": false,
    "pycharm": {
     "name": "#%%\n"
    }
   },
   "outputs": [],
   "source": [
    "from skyfield.api import Topos, load\n",
    "from skyfield.api import EarthSatellite"
   ]
  },
  {
   "cell_type": "raw",
   "metadata": {
    "collapsed": false,
    "pycharm": {
     "name": "#%% raw\n"
    }
   },
   "source": [
    "Load earth and time"
   ]
  },
  {
   "cell_type": "code",
   "execution_count": 6,
   "metadata": {
    "collapsed": false,
    "pycharm": {
     "name": "#%%\n"
    }
   },
   "outputs": [],
   "source": [
    "planets = load('de421.bsp')\n",
    "earth = planets['earth']\n",
    "\n",
    "ts = load.timescale()"
   ]
  },
  {
   "cell_type": "raw",
   "metadata": {
    "collapsed": false,
    "pycharm": {
     "name": "#%% raw\n"
    }
   },
   "source": [
    "Loading actual TLE files from celestrak"
   ]
  },
  {
   "cell_type": "code",
   "execution_count": 7,
   "metadata": {
    "collapsed": false,
    "pycharm": {
     "name": "#%%\n"
    }
   },
   "outputs": [
    {
     "name": "stderr",
     "output_type": "stream",
     "text": [
      "[#################################] 100% active.txt\n"
     ]
    },
    {
     "name": "stdout",
     "output_type": "stream",
     "text": [
      "Loaded 6789 satellites\n"
     ]
    }
   ],
   "source": [
    "stations_url = 'https://www.celestrak.com/NORAD/elements/active.txt'\n",
    "satellites = load.tle_file(stations_url, reload=True)\n",
    "print('Loaded', len(satellites), 'satellites')"
   ]
  },
  {
   "cell_type": "raw",
   "metadata": {
    "collapsed": false,
    "pycharm": {
     "name": "#%% raw\n"
    }
   },
   "source": [
    "Selecting Astrocast 0.2 from the TLE Dataset"
   ]
  },
  {
   "cell_type": "code",
   "execution_count": 8,
   "metadata": {
    "collapsed": false,
    "pycharm": {
     "name": "#%%\n"
    }
   },
   "outputs": [
    {
     "name": "stdout",
     "output_type": "stream",
     "text": [
      "ASTROCAST 0.2 catalog #44083 epoch 2022-11-03 02:37:41 UTC\n"
     ]
    }
   ],
   "source": [
    "by_name = {sat.name: sat for sat in satellites}\n",
    "satellite = by_name['ASTROCAST 0.2']\n",
    "print(satellite)"
   ]
  },
  {
   "cell_type": "raw",
   "metadata": {
    "collapsed": false,
    "pycharm": {
     "name": "#%% raw\n"
    }
   },
   "source": [
    "Finding rising and setting times with regard to antenna position"
   ]
  },
  {
   "cell_type": "code",
   "execution_count": 9,
   "metadata": {
    "collapsed": false,
    "pycharm": {
     "name": "#%%\n"
    }
   },
   "outputs": [
    {
     "name": "stdout",
     "output_type": "stream",
     "text": [
      "2022 Nov 03 09:23:13 rise above horizon\n",
      "2022 Nov 03 09:28:51 culminate\n",
      "2022 Nov 03 09:34:27 set below horizon\n",
      "2022 Nov 03 10:57:31 rise above horizon\n",
      "2022 Nov 03 11:01:22 culminate\n",
      "2022 Nov 03 11:05:15 set below horizon\n",
      "2022 Nov 03 18:30:00 rise above horizon\n",
      "2022 Nov 03 18:33:27 culminate\n",
      "2022 Nov 03 18:36:55 set below horizon\n",
      "2022 Nov 03 20:00:22 rise above horizon\n",
      "2022 Nov 03 20:05:51 culminate\n",
      "2022 Nov 03 20:11:25 set below horizon\n",
      "2022 Nov 03 21:35:06 rise above horizon\n",
      "2022 Nov 03 21:39:29 culminate\n",
      "2022 Nov 03 21:43:56 set below horizon\n"
     ]
    }
   ],
   "source": [
    "antenna_position = Topos(47.01452, 8.30613, elevation_m=500)\n",
    "t0 = ts.now()\n",
    "t1 = ts.utc(ts.now().utc.year, ts.now().utc.month, ts.now().utc.day + 1)\n",
    "t, events = satellite.find_events(antenna_position, t0, t1, altitude_degrees=0.0)\n",
    "t_rise = []\n",
    "t_below = []\n",
    "for ti, event in zip(t, events):\n",
    "    name = ('rise above horizon', 'culminate', 'set below horizon')[event]\n",
    "    print(ti.utc_strftime('%Y %b %d %H:%M:%S'), name)"
   ]
  },
  {
   "cell_type": "raw",
   "metadata": {
    "collapsed": false,
    "pycharm": {
     "name": "#%% raw\n"
    }
   },
   "source": [
    "Calculating Azimuth and Elevation with regard to antenna position"
   ]
  },
  {
   "cell_type": "code",
   "execution_count": 10,
   "metadata": {
    "collapsed": false,
    "pycharm": {
     "name": "#%%\n"
    }
   },
   "outputs": [],
   "source": [
    "difference = satellite - antenna_position\n",
    "topocentric = difference.at(t0)\n",
    "alt, az, distance = topocentric.altaz()"
   ]
  },
  {
   "cell_type": "code",
   "execution_count": 11,
   "metadata": {
    "collapsed": false,
    "pycharm": {
     "name": "#%%\n"
    }
   },
   "outputs": [
    {
     "name": "stdout",
     "output_type": "stream",
     "text": [
      "elevation = -82deg 00' 19.7\"\n",
      "azimuth = 340deg 21' 38.5\"\n",
      "13107 km\n"
     ]
    }
   ],
   "source": [
    "if alt.degrees > 0:\n",
    "    print('The', satellite.name, 'is above the horizon')\n",
    "else:\n",
    "    #print(the time remaining until the next pass)\n",
    "    pass\n",
    "\n",
    "print('elevation =', alt)\n",
    "print('azimuth =', az)\n",
    "print(int(distance.km), 'km')"
   ]
  },
  {
   "cell_type": "raw",
   "metadata": {
    "collapsed": false,
    "pycharm": {
     "name": "#%% raw\n"
    }
   },
   "source": [
    "Plot grafics"
   ]
  },
  {
   "cell_type": "code",
   "execution_count": 14,
   "metadata": {
    "collapsed": false,
    "pycharm": {
     "name": "#%%\n"
    }
   },
   "outputs": [
    {
     "data": {
      "image/png": "[encoded data removed]",
      "text/plain": [
       "<Figure size 432x288 with 2 Axes>"
      ]
     },
     "metadata": {
      "needs_background": "light"
     },
     "output_type": "display_data"
    }
   ],
   "source": [
    "import numpy as np\n",
    "from matplotlib import pyplot as plt\n",
    "from matplotlib.dates import HourLocator, DateFormatter\n",
    "\n",
    "#Fly\n",
    "t_rise = t[0]\n",
    "t_below = t[2]\n",
    "difference = satellite - antenna_position\n",
    "timeline = ts.linspace(t_rise, t_below, 1000)\n",
    "alt, az, dist = difference.at(timeline).altaz()\n",
    "\n",
    "fig = plt.figure()\n",
    "ax = plt.subplot(1, 2, 1)\n",
    "ax.plot(timeline.utc_datetime(), dist.km)\n",
    "\n",
    "ax = plt.subplot(1, 2, 2, projection='polar')\n",
    "ax.plot(az.radians, 180 - alt.degrees)\n",
    "\n",
    "plt.savefig(\"fig_1.png\")"
   ]
  },
  {
   "cell_type": "raw",
   "metadata": {
    "collapsed": false,
    "pycharm": {
     "name": "#%% raw\n"
    }
   },
   "source": [
    "Dependency of the attenuation with the elevation angle"
   ]
  },
  {
   "cell_type": "code",
   "execution_count": 43,
   "metadata": {
    "collapsed": false,
    "pycharm": {
     "name": "#%%\n"
    }
   },
   "outputs": [
    {
     "data": {
      "image/png": "[encoded data removed]",
      "text/plain": [
       "<Figure size 432x288 with 1 Axes>"
      ]
     },
     "metadata": {
      "needs_background": "light"
     },
     "output_type": "display_data"
    }
   ],
   "source": [
    "import itur\n",
    "import astropy.units as u\n",
    "\n",
    "f = 22.5 * u.GHz    # Link frequency\n",
    "D = 0.4 * u.m       # Antenna diameters\n",
    "p = 1               # Unavailability (Values exceeded 1% of time)\n",
    "#print(antenna_position.latitude.degrees, antenna_position.longitude.degrees)\n",
    "el_t = list(filter(lambda x: x[1] > 5, zip(timeline.utc_datetime(), alt.degrees)))\n",
    "#print([x[1] for x in el_t])\n",
    "Att = itur.atmospheric_attenuation_slant_path(antenna_position.latitude.degrees,\n",
    "                                              antenna_position.longitude.degrees,\n",
    "                                              f,\n",
    "                                              [x[1] for x in el_t],\n",
    "                                              p,\n",
    "                                              D)\n",
    "plt.figure()\n",
    "plt.plot([x[0] for x in el_t], Att.value)\n",
    "plt.xlabel('Time')\n",
    "plt.ylabel('Attenuation [dB]')\n",
    "plt.grid(which='major', linestyle=':')\n",
    "\n",
    "plt.savefig(\"fig_2.png\")"
   ]
  },
  {
   "cell_type": "code",
   "execution_count": null,
   "metadata": {
    "collapsed": false,
    "pycharm": {
     "name": "#%%\n"
    }
   },
   "outputs": [],
   "source": []
  }
 ],
 "metadata": {
  "kernelspec": {
   "display_name": "Python 3",
   "language": "python",
   "name": "python3"
  },
  "language_info": {
   "codemirror_mode": {
    "name": "ipython",
    "version": 2
   },
   "file_extension": ".py",
   "mimetype": "text/x-python",
   "name": "python",
   "nbconvert_exporter": "python",
   "pygments_lexer": "ipython2",
   "version": "2.7.6"
  }
 },
 "nbformat": 4,
 "nbformat_minor": 0
}
